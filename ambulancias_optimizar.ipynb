{
  "nbformat": 4,
  "nbformat_minor": 0,
  "metadata": {
    "colab": {
      "provenance": [],
      "authorship_tag": "ABX9TyNhdWO2IVQRPdz549bYe++Q",
      "include_colab_link": true
    },
    "kernelspec": {
      "name": "python3",
      "display_name": "Python 3"
    },
    "language_info": {
      "name": "python"
    }
  },
  "cells": [
    {
      "cell_type": "markdown",
      "metadata": {
        "id": "view-in-github",
        "colab_type": "text"
      },
      "source": [
        "<a href=\"https://colab.research.google.com/github/Areliortiz/trabajo/blob/main/ambulancias_optimizar.ipynb\" target=\"_parent\"><img src=\"https://colab.research.google.com/assets/colab-badge.svg\" alt=\"Open In Colab\"/></a>"
      ]
    },
    {
      "cell_type": "code",
      "source": [
        "!pip install pulp"
      ],
      "metadata": {
        "colab": {
          "base_uri": "https://localhost:8080/"
        },
        "id": "rHktVtCWcjF3",
        "outputId": "239e0ec1-cb01-4778-919f-e2ca9c4ea2fe"
      },
      "execution_count": 3,
      "outputs": [
        {
          "output_type": "stream",
          "name": "stdout",
          "text": [
            "Collecting pulp\n",
            "  Downloading PuLP-2.9.0-py3-none-any.whl.metadata (5.4 kB)\n",
            "Downloading PuLP-2.9.0-py3-none-any.whl (17.7 MB)\n",
            "\u001b[2K   \u001b[90m━━━━━━━━━━━━━━━━━━━━━━━━━━━━━━━━━━━━━━━━\u001b[0m \u001b[32m17.7/17.7 MB\u001b[0m \u001b[31m78.6 MB/s\u001b[0m eta \u001b[36m0:00:00\u001b[0m\n",
            "\u001b[?25hInstalling collected packages: pulp\n",
            "Successfully installed pulp-2.9.0\n"
          ]
        }
      ]
    },
    {
      "cell_type": "code",
      "execution_count": 5,
      "metadata": {
        "colab": {
          "base_uri": "https://localhost:8080/",
          "height": 356
        },
        "id": "CCJTPkSBALRm",
        "outputId": "3c1a8c90-5729-43e3-d46e-897f54fa03ec"
      },
      "outputs": [
        {
          "output_type": "error",
          "ename": "IndexError",
          "evalue": "list index out of range",
          "traceback": [
            "\u001b[0;31m---------------------------------------------------------------------------\u001b[0m",
            "\u001b[0;31mIndexError\u001b[0m                                Traceback (most recent call last)",
            "\u001b[0;32m<ipython-input-5-c58fdd1e7020>\u001b[0m in \u001b[0;36m<cell line: 0>\u001b[0;34m()\u001b[0m\n\u001b[1;32m     32\u001b[0m \u001b[0;31m# Restricciones para asegurar cobertura en LSCM\u001b[0m\u001b[0;34m\u001b[0m\u001b[0;34m\u001b[0m\u001b[0m\n\u001b[1;32m     33\u001b[0m \u001b[0;32mfor\u001b[0m \u001b[0mi\u001b[0m \u001b[0;32min\u001b[0m \u001b[0mrange\u001b[0m\u001b[0;34m(\u001b[0m\u001b[0mnumberofDemand\u001b[0m\u001b[0;34m)\u001b[0m\u001b[0;34m:\u001b[0m\u001b[0;34m\u001b[0m\u001b[0;34m\u001b[0m\u001b[0m\n\u001b[0;32m---> 34\u001b[0;31m     \u001b[0mmodel_lscm\u001b[0m \u001b[0;34m+=\u001b[0m \u001b[0mlpSum\u001b[0m\u001b[0;34m(\u001b[0m\u001b[0mN\u001b[0m\u001b[0;34m[\u001b[0m\u001b[0mi\u001b[0m\u001b[0;34m]\u001b[0m\u001b[0;34m[\u001b[0m\u001b[0mj\u001b[0m\u001b[0;34m]\u001b[0m \u001b[0;34m*\u001b[0m \u001b[0mx\u001b[0m\u001b[0;34m[\u001b[0m\u001b[0mj\u001b[0m\u001b[0;34m]\u001b[0m \u001b[0;32mfor\u001b[0m \u001b[0mj\u001b[0m \u001b[0;32min\u001b[0m \u001b[0mrange\u001b[0m\u001b[0;34m(\u001b[0m\u001b[0mnumberofSupply\u001b[0m\u001b[0;34m)\u001b[0m\u001b[0;34m)\u001b[0m \u001b[0;34m>=\u001b[0m \u001b[0;36m1\u001b[0m\u001b[0;34m\u001b[0m\u001b[0;34m\u001b[0m\u001b[0m\n\u001b[0m\u001b[1;32m     35\u001b[0m \u001b[0;34m\u001b[0m\u001b[0m\n\u001b[1;32m     36\u001b[0m \u001b[0;31m# Resolver LSCM\u001b[0m\u001b[0;34m\u001b[0m\u001b[0;34m\u001b[0m\u001b[0m\n",
            "\u001b[0;32m/usr/local/lib/python3.11/dist-packages/pulp/pulp.py\u001b[0m in \u001b[0;36mlpSum\u001b[0;34m(vector)\u001b[0m\n\u001b[1;32m   2231\u001b[0m     \u001b[0;34m:\u001b[0m\u001b[0mparam\u001b[0m \u001b[0mvector\u001b[0m\u001b[0;34m:\u001b[0m \u001b[0mA\u001b[0m \u001b[0mlist\u001b[0m \u001b[0mof\u001b[0m \u001b[0mlinear\u001b[0m \u001b[0mexpressions\u001b[0m\u001b[0;34m\u001b[0m\u001b[0;34m\u001b[0m\u001b[0m\n\u001b[1;32m   2232\u001b[0m     \"\"\"\n\u001b[0;32m-> 2233\u001b[0;31m     \u001b[0;32mreturn\u001b[0m \u001b[0mLpAffineExpression\u001b[0m\u001b[0;34m(\u001b[0m\u001b[0;34m)\u001b[0m\u001b[0;34m.\u001b[0m\u001b[0maddInPlace\u001b[0m\u001b[0;34m(\u001b[0m\u001b[0mvector\u001b[0m\u001b[0;34m)\u001b[0m\u001b[0;34m\u001b[0m\u001b[0;34m\u001b[0m\u001b[0m\n\u001b[0m\u001b[1;32m   2234\u001b[0m \u001b[0;34m\u001b[0m\u001b[0m\n\u001b[1;32m   2235\u001b[0m \u001b[0;34m\u001b[0m\u001b[0m\n",
            "\u001b[0;32m/usr/local/lib/python3.11/dist-packages/pulp/pulp.py\u001b[0m in \u001b[0;36maddInPlace\u001b[0;34m(self, other, sign)\u001b[0m\n\u001b[1;32m    865\u001b[0m         \u001b[0;32melif\u001b[0m \u001b[0misinstance\u001b[0m\u001b[0;34m(\u001b[0m\u001b[0mother\u001b[0m\u001b[0;34m,\u001b[0m \u001b[0mlist\u001b[0m\u001b[0;34m)\u001b[0m \u001b[0;32mor\u001b[0m \u001b[0misinstance\u001b[0m\u001b[0;34m(\u001b[0m\u001b[0mother\u001b[0m\u001b[0;34m,\u001b[0m \u001b[0mIterable\u001b[0m\u001b[0;34m)\u001b[0m\u001b[0;34m:\u001b[0m\u001b[0;34m\u001b[0m\u001b[0;34m\u001b[0m\u001b[0m\n\u001b[1;32m    866\u001b[0m             \u001b[0;31m# if a list, we add each element of the list\u001b[0m\u001b[0;34m\u001b[0m\u001b[0;34m\u001b[0m\u001b[0m\n\u001b[0;32m--> 867\u001b[0;31m             \u001b[0;32mfor\u001b[0m \u001b[0me\u001b[0m \u001b[0;32min\u001b[0m \u001b[0mother\u001b[0m\u001b[0;34m:\u001b[0m\u001b[0;34m\u001b[0m\u001b[0;34m\u001b[0m\u001b[0m\n\u001b[0m\u001b[1;32m    868\u001b[0m                 \u001b[0mself\u001b[0m\u001b[0;34m.\u001b[0m\u001b[0maddInPlace\u001b[0m\u001b[0;34m(\u001b[0m\u001b[0me\u001b[0m\u001b[0;34m,\u001b[0m \u001b[0msign\u001b[0m\u001b[0;34m=\u001b[0m\u001b[0msign\u001b[0m\u001b[0;34m)\u001b[0m\u001b[0;34m\u001b[0m\u001b[0;34m\u001b[0m\u001b[0m\n\u001b[1;32m    869\u001b[0m         \u001b[0;31m# if we're here, other must be a number\u001b[0m\u001b[0;34m\u001b[0m\u001b[0;34m\u001b[0m\u001b[0m\n",
            "\u001b[0;32m<ipython-input-5-c58fdd1e7020>\u001b[0m in \u001b[0;36m<genexpr>\u001b[0;34m(.0)\u001b[0m\n\u001b[1;32m     32\u001b[0m \u001b[0;31m# Restricciones para asegurar cobertura en LSCM\u001b[0m\u001b[0;34m\u001b[0m\u001b[0;34m\u001b[0m\u001b[0m\n\u001b[1;32m     33\u001b[0m \u001b[0;32mfor\u001b[0m \u001b[0mi\u001b[0m \u001b[0;32min\u001b[0m \u001b[0mrange\u001b[0m\u001b[0;34m(\u001b[0m\u001b[0mnumberofDemand\u001b[0m\u001b[0;34m)\u001b[0m\u001b[0;34m:\u001b[0m\u001b[0;34m\u001b[0m\u001b[0;34m\u001b[0m\u001b[0m\n\u001b[0;32m---> 34\u001b[0;31m     \u001b[0mmodel_lscm\u001b[0m \u001b[0;34m+=\u001b[0m \u001b[0mlpSum\u001b[0m\u001b[0;34m(\u001b[0m\u001b[0mN\u001b[0m\u001b[0;34m[\u001b[0m\u001b[0mi\u001b[0m\u001b[0;34m]\u001b[0m\u001b[0;34m[\u001b[0m\u001b[0mj\u001b[0m\u001b[0;34m]\u001b[0m \u001b[0;34m*\u001b[0m \u001b[0mx\u001b[0m\u001b[0;34m[\u001b[0m\u001b[0mj\u001b[0m\u001b[0;34m]\u001b[0m \u001b[0;32mfor\u001b[0m \u001b[0mj\u001b[0m \u001b[0;32min\u001b[0m \u001b[0mrange\u001b[0m\u001b[0;34m(\u001b[0m\u001b[0mnumberofSupply\u001b[0m\u001b[0;34m)\u001b[0m\u001b[0;34m)\u001b[0m \u001b[0;34m>=\u001b[0m \u001b[0;36m1\u001b[0m\u001b[0;34m\u001b[0m\u001b[0;34m\u001b[0m\u001b[0m\n\u001b[0m\u001b[1;32m     35\u001b[0m \u001b[0;34m\u001b[0m\u001b[0m\n\u001b[1;32m     36\u001b[0m \u001b[0;31m# Resolver LSCM\u001b[0m\u001b[0;34m\u001b[0m\u001b[0;34m\u001b[0m\u001b[0m\n",
            "\u001b[0;31mIndexError\u001b[0m: list index out of range"
          ]
        }
      ],
      "source": [
        "from pulp import LpProblem, LpMinimize, LpMaximize, LpVariable, lpSum, LpBinary, value\n",
        "\n",
        "# Datos iniciales\n",
        "numberofSupply = 4  # Número de estaciones candidatas, hospitales\n",
        "numberofDemand = 16  # Número de puntos de demanda, ubicaciones\n",
        "D_max = 15  # Distancia máxima (puede ajustarse según el caso)\n",
        "\n",
        "# Matriz de cobertura (1 si dentro del rango D_max, 0 si no)\n",
        "N = [\n",
        "    [1, 0, 1, 0],  # Punto de demanda 1 cubierto por estaciones 1 y 3 gus\n",
        "    [1, 1, 0, 1],  # Punto de demanda 2 cubierto por estaciones 1 y 2 iz\n",
        "    [0, 1, 1, 0],  # Punto de demanda 3 cubierto por estaciones 2 y 3 ve\n",
        "    [1, 0, 0, 1]   # Punto de demanda 4 solo cubierto por estación 1 mi\n",
        "]\n",
        "\n",
        "# Pesos asociados a cada punto de demanda (para MCLP)\n",
        "weights = [90, 100, 80, 60]\n",
        "\n",
        "# Número máximo de estaciones disponibles (para MCLP)\n",
        "max_stations = 4\n",
        "\n",
        "# Crear modelo para LSCM\n",
        "model_lscm = LpProblem(\"Location_Set_Covering_Model\", LpMinimize)\n",
        "\n",
        "# Variables de decisión\n",
        "x = LpVariable.dicts(\"x\", range(numberofSupply), cat=LpBinary)  # Estaciones\n",
        "y = LpVariable.dicts(\"y\", range(numberofDemand), cat=LpBinary)  # Puntos cubiertos (para MCLP)\n",
        "\n",
        "# Función objetivo para LSCM (minimizar número de estaciones)\n",
        "model_lscm += lpSum(x[j] for j in range(numberofSupply))\n",
        "\n",
        "# Restricciones para asegurar cobertura en LSCM\n",
        "for i in range(numberofDemand):\n",
        "    model_lscm += lpSum(N[i][j] * x[j] for j in range(numberofSupply)) >= 1\n",
        "\n",
        "# Resolver LSCM\n",
        "model_lscm.solve()\n",
        "\n",
        "# Imprimir resultados para LSCM\n",
        "print(\"\\n--- Location Set Covering Model (LSCM) ---\")\n",
        "print(\"Estado del modelo:\", model_lscm.status)\n",
        "print(\"Número mínimo de estaciones:\", value(model_lscm.objective))\n",
        "for j in range(numberofSupply):\n",
        "    print(f\"Estación {j + 1} activa:\", x[j].value())\n",
        "\n",
        "# Crear modelo para MCLP\n",
        "model_mclp = LpProblem(\"Maximal_Covering_Location_Problem\", LpMaximize)\n",
        "\n",
        "# Función objetivo para MCLP (maximizar cobertura de demanda)\n",
        "model_mclp += lpSum(weights[i] * y[i] for i in range(numberofDemand))\n",
        "\n",
        "# Restricciones para cobertura en MCLP\n",
        "for i in range(numberofDemand):\n",
        "    model_mclp += y[i] <= lpSum(N[i][j] * x[j] for j in range(numberofSupply))\n",
        "\n",
        "# Restricción en el número de estaciones disponibles\n",
        "model_mclp += lpSum(x[j] for j in range(numberofSupply)) <= max_stations\n",
        "\n",
        "# Resolver MCLP\n",
        "model_mclp.solve()\n",
        "\n",
        "# Imprimir resultados para MCLP\n",
        "print(\"\\n--- Maximal Covering Location Problem (MCLP) ---\")\n",
        "print(\"Estado del modelo:\", model_mclp.status)\n",
        "print(\"Demanda total cubierta:\", value(model_mclp.objective))\n",
        "for j in range(numberofSupply):\n",
        "    print(f\"Estación {j + 1} activa:\", x[j].value())\n",
        "for i in range(numberofDemand):\n",
        "    print(f\"Punto de demanda {i + 1} cubierto:\", y[i].value())\n"
      ]
    },
    {
      "cell_type": "code",
      "source": [
        "\n",
        "from pulp import LpProblem, LpMinimize, LpVariable, lpSum\n",
        "\n",
        "# Datos iniciales\n",
        "numberofSupply = 3  # Número de estaciones candidatas, es decir numero de dependencias\n",
        "numberofDemand = 16  # Número de puntos de demanda,numero de alcaldias\n",
        "D_max = 15  # Distancia máxima (puede ajustarse según el caso)\n",
        "\n",
        "# Matriz de cobertura (1 si dentro del rango D_max, 0 si no)\n",
        "N = [\n",
        "    [1, 0, 0],  # Punto de demanda 1\n",
        "    [1, 0, 0],  # Punto de demanda 2\n",
        "    [1, 0, 0],  # Punto de demanda 3\n",
        "    [1, 0, 0],  # Punto de demanda 4\n",
        "    [1, 0, 0],  # Punto de demanda 5\n",
        "    [1, 0, 0],  # Punto de demanda 6\n",
        "    [1, 0, 0],  # Punto de demanda 7\n",
        "    [1, 0, 0],  # Punto de demanda 8\n",
        "    [1, 0, 0],  # Punto de demanda 9\n",
        "    [1, 0, 0],  # Punto de demanda 10\n",
        "    [1, 0, 0],  # Punto de demanda 11\n",
        "    [0, 1, 0],  # Punto de demanda 12\n",
        "    [0, 1, 0],  # Punto de demanda 13\n",
        "    [0, 1, 0],  # Punto de demanda 14\n",
        "    [0, 1, 0],  # Punto de demanda 15\n",
        "    [0, 0, 1],  # Punto de demanda 16\n",
        "\n",
        "]\n",
        "\n",
        "# Crear un modelo de optimización\n",
        "model = LpProblem(\"Minimize_Number_of_Stations\", LpMinimize)\n",
        "\n",
        "# Variables de decisión: x[j] = 1 si la estación j está activa, 0 si no\n",
        "x = [LpVariable(f\"x_{j}\", cat=\"Binary\") for j in range(numberofSupply)]\n",
        "\n",
        "# Función objetivo: minimizar el número de estaciones abiertas\n",
        "model += lpSum(x[j] for j in range(numberofSupply)), \"Objective\"\n",
        "\n",
        "# Restricciones: cada punto de demanda debe ser cubierto al menos por una estación activa\n",
        "for i in range(numberofDemand):\n",
        "    model += lpSum(N[i][j] * x[j] for j in range(numberofSupply)) >= 1, f\"Demand_Coverage_{i+1}\"\n",
        "\n",
        "# Resolver el problema\n",
        "model.solve()\n",
        "\n",
        "# Mostrar resultados\n",
        "print(\"Estado de la solución:\", model.status)\n",
        "print(\"Estaciones activadas:\")\n",
        "for j in range(numberofSupply):\n",
        "    print(f\"Estación {j+1}: {'Activa' if x[j].varValue == 1 else 'Inactiva'}\")\n",
        "\n",
        "# Mostrar función objetivo\n",
        "print(\"Número mínimo de estaciones abiertas:\", sum(x[j].varValue for j in range(numberofSupply)))\n",
        "\n"
      ],
      "metadata": {
        "colab": {
          "base_uri": "https://localhost:8080/"
        },
        "id": "5NCtPwxroMYQ",
        "outputId": "918be5dd-3393-4610-a8d5-256edb73055b"
      },
      "execution_count": 6,
      "outputs": [
        {
          "output_type": "stream",
          "name": "stdout",
          "text": [
            "Estado de la solución: 1\n",
            "Estaciones activadas:\n",
            "Estación 1: Activa\n",
            "Estación 2: Activa\n",
            "Estación 3: Activa\n",
            "Número mínimo de estaciones abiertas: 3.0\n"
          ]
        }
      ]
    },
    {
      "cell_type": "code",
      "source": [
        "from pulp import LpProblem, LpMaximize, LpVariable, lpSum\n",
        "\n",
        "# Datos iniciales\n",
        "alcaldias = [\n",
        "    \"Gustavo A Madero\", \"Azcapotzalco\", \"Cuauhtémoc\", \"Cuajimalpa\", \"Álvaro Obregón\",\n",
        "    \"Coyoacán\", \"Magdalena Contreras\", \"Tlalpan\", \"Xochimilco\", \"Milpa Alta\",\n",
        "    \"Tláhuac\", \"Iztacalco\", \"Iztapalapa\", \"Venustiano Carranza\", \"Benito Juárez\", \"Miguel Hidalgo\"\n",
        "]\n",
        "dependencias = {\n",
        "    \"ERUM\": [\"Gustavo A Madero\", \"Azcapotzalco\", \"Cuauhtémoc\", \"Cuajimalpa\", \"Álvaro Obregón\",\n",
        "             \"Coyoacán\", \"Magdalena Contreras\", \"Tlalpan\", \"Xochimilco\", \"Milpa Alta\"],\n",
        "    \"CRUM\": [\"Tláhuac\", \"Iztacalco\", \"Iztapalapa\", \"Venustiano Carranza\", \"Benito Juárez\"],\n",
        "    \"Cruz Roja\": [\"Miguel Hidalgo\"]\n",
        "}\n",
        "ambulancias_disponibles = {\n",
        "    \"ERUM\": 25,\n",
        "    \"CRUM\": 8,\n",
        "    \"Cruz Roja\": 4\n",
        "}\n",
        "demanda_min = 1  # Mínimo de ambulancias por alcaldía\n",
        "demanda_max = 2  # Máximo de ambulancias por alcaldía\n",
        "\n",
        "# Crear modelo de optimización\n",
        "model = LpProblem(\"Asignación_Ambulancias\", LpMaximize)\n",
        "\n",
        "# Variables de decisión: y[i] = número de ambulancias asignadas a cada alcaldía\n",
        "y = {alcaldia: LpVariable(f\"y_{alcaldia.replace(' ', '_')}\", lowBound=demanda_min, upBound=demanda_max, cat=\"Integer\")\n",
        "     for alcaldia in alcaldias}\n",
        "\n",
        "# Función objetivo: maximizar la asignación de ambulancias\n",
        "model += lpSum(y[alcaldia] for alcaldia in alcaldias), \"Maximizar_Demanda_Cubierta\"\n",
        "\n",
        "# Restricciones por dependencia\n",
        "for dependencia, lista_alcaldias in dependencias.items():\n",
        "    model += lpSum(y[alcaldia] for alcaldia in lista_alcaldias) <= ambulancias_disponibles[dependencia], f\"Capacidad_{dependencia}\"\n",
        "\n",
        "# Resolver el modelo\n",
        "model.solve()\n",
        "\n",
        "# Mostrar resultados\n",
        "print(\"Estado de la solución:\", model.status)\n",
        "print(\"Asignación de ambulancias por alcaldía:\")\n",
        "for alcaldia in alcaldias:\n",
        "    print(f\"{alcaldia}: {y[alcaldia].varValue} ambulancias\")\n",
        "\n",
        "# Mostrar ambulancias asignadas por dependencia\n",
        "for dependencia, lista_alcaldias in dependencias.items():\n",
        "    asignadas = sum(y[alcaldia].varValue for alcaldia in lista_alcaldias)\n",
        "    print(f\"{dependencia}: {asignadas} ambulancias asignadas de {ambulancias_disponibles[dependencia]} disponibles\")\n"
      ],
      "metadata": {
        "colab": {
          "base_uri": "https://localhost:8080/"
        },
        "id": "KIAH9SWy4n8f",
        "outputId": "121d3734-7947-42d5-c865-7944d5548d9d"
      },
      "execution_count": 9,
      "outputs": [
        {
          "output_type": "stream",
          "name": "stdout",
          "text": [
            "Estado de la solución: 1\n",
            "Asignación de ambulancias por alcaldía:\n",
            "Gustavo A Madero: 2.0 ambulancias\n",
            "Azcapotzalco: 2.0 ambulancias\n",
            "Cuauhtémoc: 2.0 ambulancias\n",
            "Cuajimalpa: 2.0 ambulancias\n",
            "Álvaro Obregón: 2.0 ambulancias\n",
            "Coyoacán: 2.0 ambulancias\n",
            "Magdalena Contreras: 2.0 ambulancias\n",
            "Tlalpan: 2.0 ambulancias\n",
            "Xochimilco: 2.0 ambulancias\n",
            "Milpa Alta: 2.0 ambulancias\n",
            "Tláhuac: 2.0 ambulancias\n",
            "Iztacalco: 1.0 ambulancias\n",
            "Iztapalapa: 2.0 ambulancias\n",
            "Venustiano Carranza: 2.0 ambulancias\n",
            "Benito Juárez: 1.0 ambulancias\n",
            "Miguel Hidalgo: 2.0 ambulancias\n",
            "ERUM: 20.0 ambulancias asignadas de 25 disponibles\n",
            "CRUM: 8.0 ambulancias asignadas de 8 disponibles\n",
            "Cruz Roja: 2.0 ambulancias asignadas de 4 disponibles\n"
          ]
        }
      ]
    },
    {
      "cell_type": "code",
      "source": [
        "from pulp import LpProblem, LpMinimize, LpVariable, lpSum\n",
        "\n",
        "# Datos\n",
        "numberofSupply = 4  # Número de estaciones candidatas\n",
        "numberofDemand = 16  # Número de nodos de demanda\n",
        "p = 3  # Número total de estaciones activas permitidas\n",
        "C = 50  # Capacidad máxima de cada estación\n",
        "dem = [10, 20, 15, 25, 10, 30, 20, 40, 15, 35, 25, 30, 10, 20, 15, 25]  # Demanda de cada nodo\n",
        "T = [  # Matriz de tiempos (estación -> nodo)\n",
        "    [5, 10, 15, 20, 25, 30, 10, 15, 10, 5, 10, 25, 15, 20, 10, 25],\n",
        "    [10, 15, 20, 25, 30, 5, 15, 20, 15, 10, 20, 5, 10, 15, 25, 20],\n",
        "    [20, 25, 5, 10, 15, 20, 25, 30, 5, 10, 15, 20, 25, 30, 10, 15],\n",
        "    [30, 5, 10, 15, 20, 25, 5, 10, 15, 20, 25, 30, 5, 10, 15, 20],\n",
        "]\n",
        "\n",
        "# Crear modelo\n",
        "model = LpProblem(\"Minimizar_Tiempo_Transporte\", LpMinimize)\n",
        "\n",
        "# Variables de decisión\n",
        "x = [LpVariable(f\"x_{j}\", cat=\"Binary\") for j in range(numberofSupply)]  # Estaciones activas\n",
        "y = [[LpVariable(f\"y_{i}_{j}\", cat=\"Binary\") for j in range(numberofSupply)] for i in range(numberofDemand)]  # Asignación\n",
        "\n",
        "# Función objetivo: minimizar el tiempo total de transporte ponderado por la demanda\n",
        "model += lpSum(dem[i] * y[i][j] * T[j][i] for i in range(numberofDemand) for j in range(numberofSupply)), \"Minimizar_Tiempo\"\n",
        "\n",
        "# Restricción: una estación debe estar activa para asignar demanda\n",
        "for i in range(numberofDemand):\n",
        "    for j in range(numberofSupply):\n",
        "        model += y[i][j] <= x[j], f\"Estacion_Activa_{i}_{j}\"\n",
        "\n",
        "# Restricción: exactamente p estaciones activas\n",
        "model += lpSum(x[j] for j in range(numberofSupply)) == p, \"Numero_Estaciones_Activas\"\n",
        "\n",
        "# Restricción: cada nodo de demanda debe ser cubierto por al menos una estación\n",
        "for i in range(numberofDemand):\n",
        "    model += lpSum(y[i][j] for j in range(numberofSupply)) == 1, f\"Cobertura_Demanda_{i}\"\n",
        "\n",
        "# Restricción: capacidad máxima de cada estación\n",
        "for j in range(numberofSupply):\n",
        "    model += lpSum(y[i][j] * dem[i] for i in range(numberofDemand)) <= C, f\"Capacidad_Estacion_{j}\"\n",
        "\n",
        "# Resolver modelo\n",
        "model.solve()\n",
        "\n",
        "# Mostrar resultados\n",
        "print(\"Estado de la solución:\", model.status)\n",
        "print(\"Estaciones activadas:\")\n",
        "for j in range(numberofSupply):\n",
        "    print(f\"Estación {j + 1}: {'Activa' if x[j].varValue == 1 else 'Inactiva'}\")\n",
        "\n",
        "print(\"Asignación de nodos:\")\n",
        "for i in range(numberofDemand):\n",
        "    for j in range(numberofSupply):\n",
        "        if y[i][j].varValue == 1:\n",
        "            print(f\"Nodo {i + 1} asignado a estación {j + 1}\")\n",
        "\n",
        "# Calcular tiempo total mínimo\n",
        "tiempo_total = sum(dem[i] * y[i][j].varValue * T[j][i] for i in range(numberofDemand) for j in range(numberofSupply))\n",
        "print(\"Tiempo total de transporte mínimo:\", tiempo_total)\n"
      ],
      "metadata": {
        "colab": {
          "base_uri": "https://localhost:8080/"
        },
        "id": "YnL-XahI-ACY",
        "outputId": "e0ef720b-f3fa-4dbd-a7b0-8e0cc473c4b8"
      },
      "execution_count": 10,
      "outputs": [
        {
          "output_type": "stream",
          "name": "stdout",
          "text": [
            "Estado de la solución: -1\n",
            "Estaciones activadas:\n",
            "Estación 1: Activa\n",
            "Estación 2: Activa\n",
            "Estación 3: Inactiva\n",
            "Estación 4: Inactiva\n",
            "Asignación de nodos:\n",
            "Nodo 2 asignado a estación 4\n",
            "Nodo 3 asignado a estación 3\n",
            "Nodo 4 asignado a estación 3\n",
            "Nodo 6 asignado a estación 2\n",
            "Nodo 7 asignado a estación 4\n",
            "Nodo 10 asignado a estación 3\n",
            "Nodo 11 asignado a estación 3\n",
            "Nodo 14 asignado a estación 4\n",
            "Nodo 16 asignado a estación 3\n",
            "Tiempo total de transporte mínimo: 2924.9999985\n"
          ]
        }
      ]
    },
    {
      "cell_type": "code",
      "source": [
        "from pulp import LpProblem, LpMinimize, LpVariable, lpSum, LpBinary, value\n",
        "\n",
        "# Parámetros\n",
        "number_of_supply = 5  # Número de estaciones(ambulancias)\n",
        "number_of_demand = 8  # Número de nodos (alcaldias)\n",
        "p = 3  # Número de estaciones a emplear\n",
        "C = 20  # Capacidad máxima de las estaciones\n",
        "\n",
        "# Datos ficticios de demanda y tiempos\n",
        "dem = [5, 8, 3, 7, 6, 4, 9, 10]  # Demanda de cada nodo\n",
        "T = [\n",
        "    [2, 4, 5, 3, 6, 8, 7, 9],\n",
        "    [3, 5, 4, 2, 7, 6, 9, 8],\n",
        "    [5, 3, 2, 4, 8, 7, 6, 9],\n",
        "    [6, 8, 7, 5, 3, 2, 4, 9],\n",
        "    [9, 7, 6, 8, 4, 3, 5, 2],\n",
        "]  # Tiempos entre estaciones y nodos\n",
        "\n",
        "# Crear el modelo\n",
        "model = LpProblem(\"Optimización de estaciones de ambulancia\", LpMinimize)\n",
        "\n",
        "# Variables de decisión\n",
        "x = [LpVariable(f\"x_{j}\", cat=LpBinary) for j in range(number_of_supply)]  # Activación de estaciones\n",
        "y = [[LpVariable(f\"y_{i}_{j}\", cat=LpBinary) for j in range(number_of_supply)] for i in range(number_of_demand)]\n",
        "\n",
        "# Función objetivo: minimizar el tiempo total ponderado\n",
        "model += lpSum(dem[i] * y[i][j] * T[j][i] for i in range(number_of_demand) for j in range(number_of_supply))\n",
        "\n",
        "# Restricciones\n",
        "\n",
        "# Solo se asigna demanda a una estación activa\n",
        "for i in range(number_of_demand):\n",
        "    for j in range(number_of_supply):\n",
        "        model += y[i][j] <= x[j], f\"Activación_{i}_{j}\"\n",
        "\n",
        "# Número de estaciones a emplear\n",
        "model += lpSum(x[j] for j in range(number_of_supply)) == p, \"Número_de_estaciones\"\n",
        "\n",
        "# Cada nodo debe estar asignado al menos a una estación\n",
        "for i in range(number_of_demand):\n",
        "    model += lpSum(y[i][j] for j in range(number_of_supply)) >= 1, f\"Asignación_nodo_{i}\"\n",
        "\n",
        "# Capacidad máxima de las estaciones\n",
        "for j in range(number_of_supply):\n",
        "    model += lpSum(y[i][j] * dem[i] for i in range(number_of_demand)) <= C, f\"Capacidad_estación_{j}\"\n",
        "\n",
        "# Resolver el modelo\n",
        "model.solve()\n",
        "\n",
        "# Resultados\n",
        "print(f\"Estado de la solución: {model.status}\")\n",
        "print(\"Estaciones activadas:\")\n",
        "for j in range(number_of_supply):\n",
        "    print(f\"Estación {j+1}: {'Activa' if value(x[j]) > 0.5 else 'Inactiva'}\")\n",
        "\n",
        "print(\"\\nAsignación de nodos:\")\n",
        "for i in range(number_of_demand):\n",
        "    for j in range(number_of_supply):\n",
        "        if value(y[i][j]) > 0.5:\n",
        "            print(f\" Nodo {i+1} asignado a estación {j}\")\n",
        "\n",
        "# Calcular y mostrar tiempos totales por estación y general\n",
        "station_times = [0] * number_of_supply\n",
        "total_time = 0\n",
        "\n",
        "for i in range(number_of_demand):\n",
        "    for j in range(number_of_supply):\n",
        "        if value(y[i][j]) > 0.5:  # Si el nodo i está asignado a la estación j\n",
        "            contribution = dem[i] * T[j][i]  # Contribución del nodo i a la estación j\n",
        "            station_times[j] += contribution\n",
        "            total_time += contribution\n",
        "print(\"\\n\")\n",
        "# Mostrar resultados\n",
        "for j in range(number_of_supply):\n",
        "    print(f\"Tiempo total para la estación {j+1}: {station_times[j]:.2f}\")\n",
        "\n",
        "print(f\"\\nTiempo total general: {total_time:.2f}\")\n",
        "\n"
      ],
      "metadata": {
        "colab": {
          "base_uri": "https://localhost:8080/"
        },
        "id": "4pqHHFbWBzUv",
        "outputId": "927f47cb-951d-4b87-8583-fe5c6af31cb9"
      },
      "execution_count": 18,
      "outputs": [
        {
          "output_type": "stream",
          "name": "stdout",
          "text": [
            "Estado de la solución: 1\n",
            "Estaciones activadas:\n",
            "Estación 1: Activa\n",
            "Estación 2: Inactiva\n",
            "Estación 3: Inactiva\n",
            "Estación 4: Activa\n",
            "Estación 5: Activa\n",
            "\n",
            "Asignación de nodos:\n",
            " Nodo 1 asignado a estación 0\n",
            " Nodo 2 asignado a estación 0\n",
            " Nodo 3 asignado a estación 4\n",
            " Nodo 4 asignado a estación 0\n",
            " Nodo 5 asignado a estación 3\n",
            " Nodo 6 asignado a estación 3\n",
            " Nodo 7 asignado a estación 3\n",
            " Nodo 8 asignado a estación 4\n",
            "\n",
            "\n",
            "Tiempo total para la estación 1: 63.00\n",
            "Tiempo total para la estación 2: 0.00\n",
            "Tiempo total para la estación 3: 0.00\n",
            "Tiempo total para la estación 4: 62.00\n",
            "Tiempo total para la estación 5: 38.00\n",
            "\n",
            "Tiempo total general: 163.00\n"
          ]
        }
      ]
    },
    {
      "cell_type": "code",
      "source": [
        "from geopy.distance import geodesic\n",
        "\n",
        "# Coordenadas de las estaciones y los nodos\n",
        "estaciones = [(19.494945028482274, -99.11974959687133)]  # Coordenadas (lat, lon)\n",
        "nodos = [(19.68802389752674, -99.05744634831647)]\n",
        "\n",
        "# Calcular la matriz de tiempos (en este caso, usando distancia)\n",
        "T = []\n",
        "for estacion in estaciones:\n",
        "    fila = []\n",
        "    for nodo in nodos:\n",
        "        fila.append(geodesic(estacion, nodo).kilometers)  # Distancia en km\n",
        "    T.append(fila)\n",
        "\n",
        "print(T)\n"
      ],
      "metadata": {
        "colab": {
          "base_uri": "https://localhost:8080/"
        },
        "id": "iKbWAOW2CQo7",
        "outputId": "b159b0c3-1285-41ea-ef30-1e4fb234a56c"
      },
      "execution_count": 19,
      "outputs": [
        {
          "output_type": "stream",
          "name": "stdout",
          "text": [
            "[[22.350843303174685]]\n"
          ]
        }
      ]
    }
  ]
}